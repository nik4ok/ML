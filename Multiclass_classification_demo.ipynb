{
 "cells": [
  {
   "cell_type": "markdown",
   "metadata": {
    "id": "hfGO9T5wwrqv"
   },
   "source": [
    "# Многоклассовая классификация"
   ]
  },
  {
   "cell_type": "markdown",
   "metadata": {
    "id": "ygVE11RK0_TO"
   },
   "source": [
    "## Импорт библиотек, установка константных значений, загрузка данных"
   ]
  },
  {
   "cell_type": "code",
   "execution_count": null,
   "metadata": {
    "id": "pllDAEPT1EM8"
   },
   "outputs": [],
   "source": [
    "from sklearn.datasets import load_iris\n",
    "from sklearn.model_selection import train_test_split\n",
    "from sklearn.linear_model import LogisticRegression\n",
    "from sklearn.metrics import accuracy_score\n",
    "from sklearn.metrics import classification_report"
   ]
  },
  {
   "cell_type": "code",
   "execution_count": null,
   "metadata": {
    "id": "cFzSTYFPwDvk"
   },
   "outputs": [],
   "source": [
    "RANDOM_STATE = 42\n",
    "TRAIN_SIZE = 0.75"
   ]
  },
  {
   "cell_type": "code",
   "execution_count": null,
   "metadata": {
    "id": "BdqmTY1X1I-o"
   },
   "outputs": [],
   "source": [
    "data = load_iris(as_frame=True)\n",
    "\n",
    "X = data.data\n",
    "y = data.target"
   ]
  },
  {
   "cell_type": "markdown",
   "metadata": {
    "id": "HPu2dgVi1PW5"
   },
   "source": [
    "## Практика"
   ]
  },
  {
   "cell_type": "markdown",
   "metadata": {
    "id": "_sS1HQFgw_s7"
   },
   "source": [
    "Посмотрим на целевую переменную."
   ]
  },
  {
   "cell_type": "code",
   "execution_count": null,
   "metadata": {
    "colab": {
     "base_uri": "https://localhost:8080/"
    },
    "id": "Cqo-79NCwy1f",
    "outputId": "cf83c097-5712-4870-8e2a-1810d5eafb76"
   },
   "outputs": [
    {
     "data": {
      "text/plain": [
       "0    50\n",
       "1    50\n",
       "2    50\n",
       "Name: target, dtype: int64"
      ]
     },
     "execution_count": 4,
     "metadata": {},
     "output_type": "execute_result"
    }
   ],
   "source": [
    "y.value_counts()"
   ]
  },
  {
   "cell_type": "markdown",
   "metadata": {
    "id": "VicuGcUAxDxE"
   },
   "source": [
    "Разобъем данные на тренировочную и тестовую части."
   ]
  },
  {
   "cell_type": "code",
   "execution_count": null,
   "metadata": {
    "colab": {
     "base_uri": "https://localhost:8080/"
    },
    "id": "BdMu5izOxCG4",
    "outputId": "8ce0fab2-57d8-40f1-962d-19daa98a2a42"
   },
   "outputs": [
    {
     "data": {
      "text/plain": [
       "((112, 4), (38, 4))"
      ]
     },
     "execution_count": 5,
     "metadata": {},
     "output_type": "execute_result"
    }
   ],
   "source": [
    "X_train, X_test, y_train, y_test = train_test_split(X, y,\n",
    "                                                    train_size=TRAIN_SIZE,\n",
    "                                                    random_state=RANDOM_STATE)\n",
    "\n",
    "X_train.shape, X_test.shape"
   ]
  },
  {
   "cell_type": "markdown",
   "metadata": {
    "id": "fL_PL6ZWxTVs"
   },
   "source": [
    "Применим логистическую регрессию для решения задачи.\n",
    "\n",
    "У этой модели есть гиперпараметр `multi_class`, который может принимать значения:\n",
    "* `ovr`\n",
    "* `multinomial`\n",
    "\n",
    "`ovr` - это сведение многоклассовой задаче к серии бинарных методом `one-versus-rest`\n",
    "\n",
    "`multinomial` - это решение исходной задачи путем обобщения функции потерь логистической регрессии на многоклассовый случай (в многоклассовом случае используется функция потерь под названием [кросс-энтропия](https://en.wikipedia.org/wiki/Logistic_regression)).\n"
   ]
  },
  {
   "cell_type": "markdown",
   "metadata": {
    "id": "Ztq6tzfUyJ2b"
   },
   "source": [
    "Сначала используем опцию `ovr`.  \n",
    "Обучим модель на тренировочных данных, сделаем предсказания на тесте и оценим качество по метрике *accuracy*."
   ]
  },
  {
   "cell_type": "code",
   "execution_count": null,
   "metadata": {
    "colab": {
     "base_uri": "https://localhost:8080/"
    },
    "id": "ky9LiE7rxS8l",
    "outputId": "28653d7d-526c-48d2-bf43-94b0050f3df2"
   },
   "outputs": [
    {
     "data": {
      "text/plain": [
       "0.9736842105263158"
      ]
     },
     "execution_count": 6,
     "metadata": {},
     "output_type": "execute_result"
    }
   ],
   "source": [
    "model_ovr = LogisticRegression(multi_class='ovr')\n",
    "\n",
    "model_ovr.fit(X_train, y_train)\n",
    "\n",
    "pred_ovr = model_ovr.predict(X_test)\n",
    "\n",
    "accuracy_score(y_test, pred_ovr)"
   ]
  },
  {
   "cell_type": "markdown",
   "metadata": {
    "id": "iEVMhgluygg5"
   },
   "source": [
    "Теперь используем подход `multinomial`."
   ]
  },
  {
   "cell_type": "code",
   "execution_count": null,
   "metadata": {
    "colab": {
     "base_uri": "https://localhost:8080/"
    },
    "id": "GkJTi20tydnd",
    "outputId": "8204fd2c-13d2-4067-85bc-80eef80afd85"
   },
   "outputs": [
    {
     "data": {
      "text/plain": [
       "1.0"
      ]
     },
     "execution_count": 7,
     "metadata": {},
     "output_type": "execute_result"
    }
   ],
   "source": [
    "model_mn = LogisticRegression(multi_class='multinomial', max_iter=1000)\n",
    "\n",
    "model_mn.fit(X_train, y_train)\n",
    "\n",
    "pred_mn = model_mn.predict(X_test)\n",
    "\n",
    "accuracy_score(y_test, pred_mn)"
   ]
  },
  {
   "cell_type": "markdown",
   "metadata": {
    "id": "WTeaqGw9ys5Z"
   },
   "source": [
    "Подход с опцией `multinomial` сработал в этой задаче лучше.\n",
    "\n",
    "Однако, это не означает, что он всегда будет работать лучше."
   ]
  },
  {
   "cell_type": "markdown",
   "metadata": {
    "id": "AtboxaSwy0C0"
   },
   "source": [
    "Посмотрим на другие метрики."
   ]
  },
  {
   "cell_type": "code",
   "execution_count": null,
   "metadata": {
    "colab": {
     "base_uri": "https://localhost:8080/"
    },
    "id": "BYN9Pk0UyryZ",
    "outputId": "9dbe3400-86f3-41fc-a258-a18c2e97600a"
   },
   "outputs": [
    {
     "name": "stdout",
     "output_type": "stream",
     "text": [
      "              precision    recall  f1-score   support\n",
      "\n",
      "           0    1.00000   1.00000   1.00000        15\n",
      "           1    1.00000   0.90909   0.95238        11\n",
      "           2    0.92308   1.00000   0.96000        12\n",
      "\n",
      "    accuracy                        0.97368        38\n",
      "   macro avg    0.97436   0.96970   0.97079        38\n",
      "weighted avg    0.97571   0.97368   0.97358        38\n",
      "\n"
     ]
    }
   ],
   "source": [
    "print(classification_report(y_test, pred_ovr, digits=5))"
   ]
  },
  {
   "cell_type": "code",
   "execution_count": null,
   "metadata": {
    "colab": {
     "base_uri": "https://localhost:8080/"
    },
    "id": "8HghFRP4y5Q8",
    "outputId": "1525c813-c894-46c0-c385-ce16ce12ff4c",
    "scrolled": true
   },
   "outputs": [
    {
     "name": "stdout",
     "output_type": "stream",
     "text": [
      "              precision    recall  f1-score   support\n",
      "\n",
      "           0       1.00      1.00      1.00        15\n",
      "           1       1.00      1.00      1.00        11\n",
      "           2       1.00      1.00      1.00        12\n",
      "\n",
      "    accuracy                           1.00        38\n",
      "   macro avg       1.00      1.00      1.00        38\n",
      "weighted avg       1.00      1.00      1.00        38\n",
      "\n"
     ]
    }
   ],
   "source": [
    "print(classification_report(y_test, pred_mn))"
   ]
  },
  {
   "cell_type": "markdown",
   "metadata": {
    "id": "V7owO0PvzBJ4"
   },
   "source": [
    "Мы видим, что модель, полученная в результате `ovr` подхода, путает между собой ирисы типов 1 и 2.\n",
    "\n",
    "Модель `multinomial` - ничего не путает."
   ]
  }
 ],
 "metadata": {
  "colab": {
   "provenance": []
  },
  "kernelspec": {
   "display_name": "Python 3 (ipykernel)",
   "language": "python",
   "name": "python3"
  },
  "language_info": {
   "codemirror_mode": {
    "name": "ipython",
    "version": 3
   },
   "file_extension": ".py",
   "mimetype": "text/x-python",
   "name": "python",
   "nbconvert_exporter": "python",
   "pygments_lexer": "ipython3",
   "version": "3.10.7"
  }
 },
 "nbformat": 4,
 "nbformat_minor": 4
}
