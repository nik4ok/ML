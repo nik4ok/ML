{
 "cells": [
  {
   "cell_type": "markdown",
   "metadata": {
    "id": "rTWW8JZh8sK7"
   },
   "source": [
    "# Метод ближайших соседей"
   ]
  },
  {
   "cell_type": "markdown",
   "metadata": {
    "id": "0T_uVSM482Ov"
   },
   "source": [
    "## Импорт библиотек, установка константных значений"
   ]
  },
  {
   "cell_type": "code",
   "execution_count": 1,
   "metadata": {
    "id": "MRkA3-N0sgxC"
   },
   "outputs": [],
   "source": [
    "import numpy as np\n",
    "import pandas as pd\n",
    "import sklearn\n",
    "\n",
    "from sklearn.datasets import load_digits\n",
    "from sklearn.neighbors import KNeighborsClassifier\n",
    "from sklearn.utils import shuffle\n",
    "\n",
    "from matplotlib import pyplot as plt"
   ]
  },
  {
   "cell_type": "code",
   "execution_count": 2,
   "metadata": {
    "id": "oh3B9eIn84L6"
   },
   "outputs": [],
   "source": [
    "RANDOM_STATE = 42\n",
    "TRAIN_SIZE = 0.7"
   ]
  },
  {
   "cell_type": "markdown",
   "metadata": {
    "id": "_jTaax_l89hm"
   },
   "source": [
    "## Практика"
   ]
  },
  {
   "cell_type": "markdown",
   "metadata": {
    "id": "tDe427A-9Ami"
   },
   "source": [
    "Применим KNN к датасету с изображениями цифр. Это данные для 10-классовой классификации."
   ]
  },
  {
   "cell_type": "markdown",
   "metadata": {
    "id": "b7CNa_Dbu6Db"
   },
   "source": [
    "Загрузим данные и посмотрим на них."
   ]
  },
  {
   "cell_type": "code",
   "execution_count": 3,
   "metadata": {
    "colab": {
     "base_uri": "https://localhost:8080/"
    },
    "id": "-51OR1RGs20X",
    "outputId": "7cba6eab-2a91-409b-d37b-326691680a9b"
   },
   "outputs": [
    {
     "data": {
      "text/plain": [
       "(1797, 8, 8)"
      ]
     },
     "execution_count": 3,
     "metadata": {},
     "output_type": "execute_result"
    }
   ],
   "source": [
    "data = load_digits()\n",
    "X = data.images\n",
    "y = data.target\n",
    "\n",
    "X.shape"
   ]
  },
  {
   "cell_type": "code",
   "execution_count": 8,
   "metadata": {},
   "outputs": [
    {
     "data": {
      "text/plain": [
       "1797"
      ]
     },
     "execution_count": 8,
     "metadata": {},
     "output_type": "execute_result"
    }
   ],
   "source": [
    "X.shape[0]"
   ]
  },
  {
   "cell_type": "code",
   "execution_count": 5,
   "metadata": {},
   "outputs": [
    {
     "data": {
      "text/plain": [
       "array([0, 1, 2, ..., 8, 9, 8])"
      ]
     },
     "execution_count": 5,
     "metadata": {},
     "output_type": "execute_result"
    }
   ],
   "source": [
    "y"
   ]
  },
  {
   "cell_type": "code",
   "execution_count": 14,
   "metadata": {
    "colab": {
     "base_uri": "https://localhost:8080/"
    },
    "id": "qPjkPSc5i5xx",
    "outputId": "2a8b4125-d8d9-415f-f3f4-4a1e805f3be5",
    "scrolled": true
   },
   "outputs": [
    {
     "name": "stdout",
     "output_type": "stream",
     "text": [
      "[[[188   9 129  41 230]\n",
      "  [126 134 136  81 211]\n",
      "  [ 71 175  52 156  19]\n",
      "  [ 94  66  58   7 118]]\n",
      "\n",
      " [[ 70 108 250 201  81]\n",
      "  [142 164  31  96 244]\n",
      "  [236  89  67 247 228]\n",
      "  [255 150 219 174 104]]]\n"
     ]
    }
   ],
   "source": [
    "# Задаем размеры трехмерного массива\n",
    "depth = 2\n",
    "rows = 4\n",
    "cols = 5\n",
    "\n",
    "# Генерируем трехмерный массив с случайными значениями от 0 до 255\n",
    "three_d_array = np.random.randint(0, 256, size=(depth, rows, cols))\n",
    "\n",
    "print(three_d_array)"
   ]
  },
  {
   "cell_type": "code",
   "execution_count": 17,
   "metadata": {},
   "outputs": [
    {
     "data": {
      "text/plain": [
       "(2, 4, 5)"
      ]
     },
     "execution_count": 17,
     "metadata": {},
     "output_type": "execute_result"
    }
   ],
   "source": [
    "three_d_array.shape"
   ]
  },
  {
   "cell_type": "code",
   "execution_count": 22,
   "metadata": {},
   "outputs": [],
   "source": [
    "ф = three_d_array.reshape(three_d_array.shape[0], -1)"
   ]
  },
  {
   "cell_type": "code",
   "execution_count": null,
   "metadata": {},
   "outputs": [],
   "source": []
  },
  {
   "cell_type": "code",
   "execution_count": 23,
   "metadata": {},
   "outputs": [
    {
     "data": {
      "text/plain": [
       "array([[188,   9, 129,  41, 230, 126, 134, 136,  81, 211,  71, 175,  52,\n",
       "        156,  19,  94,  66,  58,   7, 118],\n",
       "       [ 70, 108, 250, 201,  81, 142, 164,  31,  96, 244, 236,  89,  67,\n",
       "        247, 228, 255, 150, 219, 174, 104]])"
      ]
     },
     "execution_count": 23,
     "metadata": {},
     "output_type": "execute_result"
    }
   ],
   "source": [
    "ф"
   ]
  },
  {
   "cell_type": "code",
   "execution_count": 20,
   "metadata": {},
   "outputs": [
    {
     "data": {
      "text/plain": [
       "(2, 20)"
      ]
     },
     "execution_count": 20,
     "metadata": {},
     "output_type": "execute_result"
    }
   ],
   "source": [
    "ф.shape"
   ]
  },
  {
   "cell_type": "code",
   "execution_count": 6,
   "metadata": {
    "colab": {
     "base_uri": "https://localhost:8080/",
     "height": 628
    },
    "id": "teTWTi3muVMS",
    "outputId": "9fd8b2ae-84de-432f-d951-af25c64f9588"
   },
   "outputs": [
    {
     "data": {
      "image/png": "[encoded data removed]",
      "text/plain": [
       "<Figure size 200x200 with 1 Axes>"
      ]
     },
     "metadata": {},
     "output_type": "display_data"
    },
    {
     "data": {
      "image/png": "[encoded data removed]",
      "text/plain": [
       "<Figure size 200x200 with 1 Axes>"
      ]
     },
     "metadata": {},
     "output_type": "display_data"
    },
    {
     "data": {
      "image/png": "[encoded data removed]",
      "text/plain": [
       "<Figure size 200x200 with 1 Axes>"
      ]
     },
     "metadata": {},
     "output_type": "display_data"
    }
   ],
   "source": [
    "for i in range(3):\n",
    "  plt.figure(figsize=(2,2))\n",
    "  plt.imshow(X[i], cmap='gray')\n",
    "  plt.show()"
   ]
  },
  {
   "cell_type": "markdown",
   "metadata": {
    "id": "4ZxQiTE-u87L"
   },
   "source": [
    "Каждая картинка - это матрица чисел (яркостей пикселей). Но в стандартной постановке задач каждый объект (картинка) - это строчка своих признаков в матрице объект-признак. Поэтому вытянем каждую картинку в вектор."
   ]
  },
  {
   "cell_type": "code",
   "execution_count": 7,
   "metadata": {
    "colab": {
     "base_uri": "https://localhost:8080/"
    },
    "id": "RQK84Uc3s5PP",
    "outputId": "3a16a980-8b3b-4207-dcd0-3923725ef4b2"
   },
   "outputs": [
    {
     "data": {
      "text/plain": [
       "(1797, 64)"
      ]
     },
     "execution_count": 7,
     "metadata": {},
     "output_type": "execute_result"
    }
   ],
   "source": [
    "X = X.reshape(X.shape[0], -1)\n",
    "\n",
    "X.shape"
   ]
  },
  {
   "cell_type": "markdown",
   "metadata": {
    "id": "tKiiefI0vJoy"
   },
   "source": [
    "Перемешаем данные, так как в исходном датасете числа идут друг за другом, а нам для обучения и тестирования модели нужен случайный порядок."
   ]
  },
  {
   "cell_type": "code",
   "execution_count": 24,
   "metadata": {
    "colab": {
     "base_uri": "https://localhost:8080/"
    },
    "id": "BFsP_AS4vI--",
    "outputId": "e9e2b999-8569-4e5c-96cf-ac5a44c0cbb6"
   },
   "outputs": [
    {
     "name": "stdout",
     "output_type": "stream",
     "text": [
      "Features shape: (1797, 64),\n",
      "Target shape: (1797,)\n",
      "Target samples: [4 5 6 4 9 1 9 2 0 8]\n"
     ]
    }
   ],
   "source": [
    "X, y = shuffle(X, y)\n",
    "\n",
    "print(f\"Features shape: {X.shape},\\nTarget shape: {y.shape}\")\n",
    "print(f\"Target samples: {y[:10]}\")"
   ]
  },
  {
   "cell_type": "markdown",
   "metadata": {
    "id": "VGyrXZ0qvRza"
   },
   "source": [
    "Разобъем данные на трейн и тест."
   ]
  },
  {
   "cell_type": "code",
   "execution_count": 25,
   "metadata": {
    "id": "tJXBt5gns8DW"
   },
   "outputs": [],
   "source": [
    "from sklearn.model_selection import train_test_split\n",
    "\n",
    "Xtrain, Xtest, ytrain, ytest = train_test_split(X, y,\n",
    "                                                train_size=TRAIN_SIZE,\n",
    "                                                random_state=RANDOM_STATE)"
   ]
  },
  {
   "cell_type": "markdown",
   "metadata": {
    "id": "FWYnWj2ZvUDq"
   },
   "source": [
    "Обучим KNN с взятым из головы числом соседей (10)."
   ]
  },
  {
   "cell_type": "code",
   "execution_count": 26,
   "metadata": {
    "id": "VDxm9XqMtMe8"
   },
   "outputs": [],
   "source": [
    "clf = KNeighborsClassifier(n_neighbors=10)\n",
    "\n",
    "clf.fit(Xtrain, ytrain)\n",
    "prediction = clf.predict(Xtest)"
   ]
  },
  {
   "cell_type": "code",
   "execution_count": 27,
   "metadata": {
    "colab": {
     "base_uri": "https://localhost:8080/"
    },
    "id": "15qyAK2VtQhH",
    "outputId": "421d89bf-09d6-4f8f-f0e4-2d6b4ea8361f"
   },
   "outputs": [
    {
     "data": {
      "text/plain": [
       "0.9796296296296296"
      ]
     },
     "execution_count": 27,
     "metadata": {},
     "output_type": "execute_result"
    }
   ],
   "source": [
    "from sklearn.metrics import accuracy_score\n",
    "\n",
    "accuracy_score(ytest, prediction)"
   ]
  },
  {
   "cell_type": "markdown",
   "metadata": {
    "id": "dBjkGel4vZK3"
   },
   "source": [
    "Посмотрим, как число соседей влияет на качество модели."
   ]
  },
  {
   "cell_type": "code",
   "execution_count": 33,
   "metadata": {},
   "outputs": [
    {
     "data": {
      "text/plain": [
       "{0: 178,\n",
       " 1: 182,\n",
       " 2: 177,\n",
       " 3: 183,\n",
       " 4: 181,\n",
       " 5: 182,\n",
       " 6: 181,\n",
       " 7: 179,\n",
       " 8: 174,\n",
       " 9: 180}"
      ]
     },
     "execution_count": 33,
     "metadata": {},
     "output_type": "execute_result"
    }
   ],
   "source": [
    "unique, counts = np.unique(y, return_counts=True)\n",
    "dict(zip(unique, counts))"
   ]
  },
  {
   "cell_type": "code",
   "execution_count": 28,
   "metadata": {
    "colab": {
     "base_uri": "https://localhost:8080/"
    },
    "id": "n7i1EuP3tZoI",
    "outputId": "4a834692-9a05-4231-b596-33c1ec0b8745",
    "scrolled": true
   },
   "outputs": [
    {
     "name": "stdout",
     "output_type": "stream",
     "text": [
      "k: 3\n",
      "accuracy: 0.9833333333333333\n",
      "k: 5\n",
      "accuracy: 0.9814814814814815\n",
      "k: 7\n",
      "accuracy: 0.9851851851851852\n",
      "k: 9\n",
      "accuracy: 0.9814814814814815\n",
      "k: 11\n",
      "accuracy: 0.9796296296296296\n",
      "k: 13\n",
      "accuracy: 0.9796296296296296\n",
      "k: 15\n",
      "accuracy: 0.9777777777777777\n",
      "k: 17\n",
      "accuracy: 0.9722222222222222\n",
      "k: 19\n",
      "accuracy: 0.9740740740740741\n",
      "k: 21\n",
      "accuracy: 0.9666666666666667\n",
      "k: 23\n",
      "accuracy: 0.9666666666666667\n",
      "k: 25\n",
      "accuracy: 0.9629629629629629\n",
      "k: 27\n",
      "accuracy: 0.9648148148148148\n",
      "k: 29\n",
      "accuracy: 0.9629629629629629\n",
      "k: 31\n",
      "accuracy: 0.9611111111111111\n",
      "k: 33\n",
      "accuracy: 0.9574074074074074\n",
      "k: 35\n",
      "accuracy: 0.9518518518518518\n",
      "k: 37\n",
      "accuracy: 0.9481481481481482\n",
      "k: 39\n",
      "accuracy: 0.9462962962962963\n",
      "k: 41\n",
      "accuracy: 0.9462962962962963\n",
      "k: 43\n",
      "accuracy: 0.9444444444444444\n",
      "k: 45\n",
      "accuracy: 0.9425925925925925\n",
      "k: 47\n",
      "accuracy: 0.9407407407407408\n",
      "k: 49\n",
      "accuracy: 0.9407407407407408\n"
     ]
    }
   ],
   "source": [
    "for k in np.arange(3, 50, 2):\n",
    "    clf = KNeighborsClassifier(n_neighbors=k)\n",
    "\n",
    "    clf.fit(Xtrain, ytrain)\n",
    "    prediction = clf.predict(Xtest)\n",
    "\n",
    "    print('k:', k)\n",
    "    print('accuracy:', accuracy_score(ytest, prediction))"
   ]
  },
  {
   "cell_type": "markdown",
   "metadata": {
    "id": "XtVCAdrcvdWr"
   },
   "source": [
    "Посмотрим, как влияет на качество алгоритма способ учесть веса у ближайших соседей."
   ]
  },
  {
   "cell_type": "code",
   "execution_count": 34,
   "metadata": {
    "colab": {
     "base_uri": "https://localhost:8080/"
    },
    "id": "-yJyiIWWt-5l",
    "outputId": "6153350e-c7ba-47e1-b205-3ebe43aaa5c4"
   },
   "outputs": [
    {
     "name": "stdout",
     "output_type": "stream",
     "text": [
      "weights: uniform\n",
      "accuracy: 0.9833333333333333\n",
      "weights: distance\n",
      "accuracy: 0.9833333333333333\n"
     ]
    }
   ],
   "source": [
    "for weights in ['uniform', 'distance']:\n",
    "    clf = KNeighborsClassifier(n_neighbors=3, weights=weights)\n",
    "\n",
    "    clf.fit(Xtrain, ytrain)\n",
    "    prediction = clf.predict(Xtest)\n",
    "\n",
    "    print('weights:', weights)\n",
    "    print('accuracy:', accuracy_score(ytest, prediction))"
   ]
  },
  {
   "cell_type": "markdown",
   "metadata": {
    "id": "RJZb570CvqPJ"
   },
   "source": [
    "Визуально оценим качество предсказаний"
   ]
  },
  {
   "cell_type": "code",
   "execution_count": 35,
   "metadata": {
    "colab": {
     "base_uri": "https://localhost:8080/",
     "height": 1000
    },
    "id": "fvTG9TY1vqa5",
    "outputId": "6c638ccb-e56d-4474-b550-ce1713760397"
   },
   "outputs": [
    {
     "name": "stdout",
     "output_type": "stream",
     "text": [
      "predicted label: 0\n"
     ]
    },
    {
     "data": {
      "image/png": "[encoded data removed]",
      "text/plain": [
       "<Figure size 200x200 with 1 Axes>"
      ]
     },
     "metadata": {},
     "output_type": "display_data"
    },
    {
     "name": "stdout",
     "output_type": "stream",
     "text": [
      "predicted label: 0\n"
     ]
    },
    {
     "data": {
      "image/png": "[encoded data removed]",
      "text/plain": [
       "<Figure size 200x200 with 1 Axes>"
      ]
     },
     "metadata": {},
     "output_type": "display_data"
    },
    {
     "name": "stdout",
     "output_type": "stream",
     "text": [
      "predicted label: 1\n"
     ]
    },
    {
     "data": {
      "image/png": "[encoded data removed]",
      "text/plain": [
       "<Figure size 200x200 with 1 Axes>"
      ]
     },
     "metadata": {},
     "output_type": "display_data"
    },
    {
     "name": "stdout",
     "output_type": "stream",
     "text": [
      "predicted label: 0\n"
     ]
    },
    {
     "data": {
      "image/png": "[encoded data removed]",
      "text/plain": [
       "<Figure size 200x200 with 1 Axes>"
      ]
     },
     "metadata": {},
     "output_type": "display_data"
    },
    {
     "name": "stdout",
     "output_type": "stream",
     "text": [
      "predicted label: 0\n"
     ]
    },
    {
     "data": {
      "image/png": "[encoded data removed]",
      "text/plain": [
       "<Figure size 200x200 with 1 Axes>"
      ]
     },
     "metadata": {},
     "output_type": "display_data"
    }
   ],
   "source": [
    "for i in range(5):\n",
    "  print('predicted label:', prediction[i])\n",
    "  plt.figure(figsize=(2,2))\n",
    "  plt.imshow(Xtest[i].reshape((8,8)), cmap='gray')\n",
    "  plt.show()"
   ]
  },
  {
   "cell_type": "markdown",
   "metadata": {
    "id": "TLVG9HDUwSQa"
   },
   "source": [
    "Мы видим, что KNN довольно хорошо справился с задачей!  \n",
    "Подбор гиперпараметров (число соседей, способ подсчета весов соседей и другие) также влияет на качество предсказания модели."
   ]
  },
  {
   "cell_type": "code",
   "execution_count": 36,
   "metadata": {
    "colab": {
     "base_uri": "https://localhost:8080/",
     "height": 965
    },
    "id": "fbcekFgsk0yE",
    "outputId": "ffb2d4d1-c303-45f6-e968-80357d2583e8"
   },
   "outputs": [
    {
     "name": "stdout",
     "output_type": "stream",
     "text": [
      "true label: 5\n",
      "predicted label: 9\n"
     ]
    },
    {
     "data": {
      "image/png": "[encoded data removed]",
      "text/plain": [
       "<Figure size 200x200 with 1 Axes>"
      ]
     },
     "metadata": {},
     "output_type": "display_data"
    },
    {
     "name": "stdout",
     "output_type": "stream",
     "text": [
      "true label: 8\n",
      "predicted label: 1\n"
     ]
    },
    {
     "data": {
      "image/png": "[encoded data removed]",
      "text/plain": [
       "<Figure size 200x200 with 1 Axes>"
      ]
     },
     "metadata": {},
     "output_type": "display_data"
    },
    {
     "name": "stdout",
     "output_type": "stream",
     "text": [
      "true label: 1\n",
      "predicted label: 5\n"
     ]
    },
    {
     "data": {
      "image/png": "[encoded data removed]",
      "text/plain": [
       "<Figure size 200x200 with 1 Axes>"
      ]
     },
     "metadata": {},
     "output_type": "display_data"
    },
    {
     "name": "stdout",
     "output_type": "stream",
     "text": [
      "true label: 8\n",
      "predicted label: 1\n"
     ]
    },
    {
     "data": {
      "image/png": "[encoded data removed]",
      "text/plain": [
       "<Figure size 200x200 with 1 Axes>"
      ]
     },
     "metadata": {},
     "output_type": "display_data"
    },
    {
     "name": "stdout",
     "output_type": "stream",
     "text": [
      "true label: 9\n",
      "predicted label: 1\n"
     ]
    },
    {
     "data": {
      "image/png": "[encoded data removed]",
      "text/plain": [
       "<Figure size 200x200 with 1 Axes>"
      ]
     },
     "metadata": {},
     "output_type": "display_data"
    },
    {
     "name": "stdout",
     "output_type": "stream",
     "text": [
      "true label: 9\n",
      "predicted label: 5\n"
     ]
    },
    {
     "data": {
      "image/png": "[encoded data removed]",
      "text/plain": [
       "<Figure size 200x200 with 1 Axes>"
      ]
     },
     "metadata": {},
     "output_type": "display_data"
    },
    {
     "name": "stdout",
     "output_type": "stream",
     "text": [
      "true label: 5\n",
      "predicted label: 9\n"
     ]
    },
    {
     "data": {
      "image/png": "[encoded data removed]",
      "text/plain": [
       "<Figure size 200x200 with 1 Axes>"
      ]
     },
     "metadata": {},
     "output_type": "display_data"
    },
    {
     "name": "stdout",
     "output_type": "stream",
     "text": [
      "true label: 8\n",
      "predicted label: 9\n"
     ]
    },
    {
     "data": {
      "image/png": "[encoded data removed]",
      "text/plain": [
       "<Figure size 200x200 with 1 Axes>"
      ]
     },
     "metadata": {},
     "output_type": "display_data"
    },
    {
     "name": "stdout",
     "output_type": "stream",
     "text": [
      "true label: 8\n",
      "predicted label: 1\n"
     ]
    },
    {
     "data": {
      "image/png": "[encoded data removed]",
      "text/plain": [
       "<Figure size 200x200 with 1 Axes>"
      ]
     },
     "metadata": {},
     "output_type": "display_data"
    }
   ],
   "source": [
    "for i in range(len(ytest)):\n",
    "   if ytest[i] != prediction[i]:\n",
    "      print('true label:', ytest[i])\n",
    "      print('predicted label:', prediction[i])\n",
    "      plt.figure(figsize=(2,2))\n",
    "      plt.imshow(Xtest[i].reshape((8,8)), cmap='gray')\n",
    "      plt.show()"
   ]
  },
  {
   "cell_type": "code",
   "execution_count": null,
   "metadata": {
    "id": "iHWIkzQNk625"
   },
   "outputs": [],
   "source": []
  }
 ],
 "metadata": {
  "colab": {
   "provenance": []
  },
  "kernelspec": {
   "display_name": "Python 3 (ipykernel)",
   "language": "python",
   "name": "python3"
  },
  "language_info": {
   "codemirror_mode": {
    "name": "ipython",
    "version": 3
   },
   "file_extension": ".py",
   "mimetype": "text/x-python",
   "name": "python",
   "nbconvert_exporter": "python",
   "pygments_lexer": "ipython3",
   "version": "3.10.7"
  }
 },
 "nbformat": 4,
 "nbformat_minor": 4
}
